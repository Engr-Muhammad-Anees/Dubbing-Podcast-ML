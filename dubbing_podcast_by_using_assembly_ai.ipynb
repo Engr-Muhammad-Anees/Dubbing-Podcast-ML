{
  "cells": [
    {
      "cell_type": "markdown",
      "metadata": {
        "id": "-faB2tuCHPDa"
      },
      "source": [
        "**package install:**"
      ]
    },
    {
      "cell_type": "code",
      "execution_count": 1,
      "metadata": {
        "colab": {
          "base_uri": "https://localhost:8080/",
          "height": 0
        },
        "collapsed": true,
        "id": "UBYVkjoRG-1A",
        "outputId": "f2b67d9f-25b4-411e-cc35-f224816cb934"
      },
      "outputs": [
        {
          "output_type": "stream",
          "name": "stdout",
          "text": [
            "Requirement already satisfied: moviepy in /usr/local/lib/python3.12/dist-packages (1.0.3)\n",
            "Collecting assemblyai\n",
            "  Downloading assemblyai-0.45.4-py3-none-any.whl.metadata (27 kB)\n",
            "Collecting elevenlabs\n",
            "  Downloading elevenlabs-2.20.1-py3-none-any.whl.metadata (9.1 kB)\n",
            "Requirement already satisfied: pydub in /usr/local/lib/python3.12/dist-packages (0.25.1)\n",
            "Requirement already satisfied: decorator<5.0,>=4.0.2 in /usr/local/lib/python3.12/dist-packages (from moviepy) (4.4.2)\n",
            "Requirement already satisfied: tqdm<5.0,>=4.11.2 in /usr/local/lib/python3.12/dist-packages (from moviepy) (4.67.1)\n",
            "Requirement already satisfied: requests<3.0,>=2.8.1 in /usr/local/lib/python3.12/dist-packages (from moviepy) (2.32.4)\n",
            "Requirement already satisfied: proglog<=1.0.0 in /usr/local/lib/python3.12/dist-packages (from moviepy) (0.1.12)\n",
            "Requirement already satisfied: numpy>=1.17.3 in /usr/local/lib/python3.12/dist-packages (from moviepy) (2.0.2)\n",
            "Requirement already satisfied: imageio<3.0,>=2.5 in /usr/local/lib/python3.12/dist-packages (from moviepy) (2.37.0)\n",
            "Requirement already satisfied: imageio-ffmpeg>=0.2.0 in /usr/local/lib/python3.12/dist-packages (from moviepy) (0.6.0)\n",
            "Requirement already satisfied: httpx>=0.19.0 in /usr/local/lib/python3.12/dist-packages (from assemblyai) (0.28.1)\n",
            "Requirement already satisfied: pydantic>=1.10.17 in /usr/local/lib/python3.12/dist-packages (from assemblyai) (2.11.10)\n",
            "Requirement already satisfied: typing-extensions>=3.7 in /usr/local/lib/python3.12/dist-packages (from assemblyai) (4.15.0)\n",
            "Requirement already satisfied: websockets>=11.0 in /usr/local/lib/python3.12/dist-packages (from assemblyai) (15.0.1)\n",
            "Requirement already satisfied: pydantic-core>=2.18.2 in /usr/local/lib/python3.12/dist-packages (from elevenlabs) (2.33.2)\n",
            "Requirement already satisfied: anyio in /usr/local/lib/python3.12/dist-packages (from httpx>=0.19.0->assemblyai) (4.11.0)\n",
            "Requirement already satisfied: certifi in /usr/local/lib/python3.12/dist-packages (from httpx>=0.19.0->assemblyai) (2025.10.5)\n",
            "Requirement already satisfied: httpcore==1.* in /usr/local/lib/python3.12/dist-packages (from httpx>=0.19.0->assemblyai) (1.0.9)\n",
            "Requirement already satisfied: idna in /usr/local/lib/python3.12/dist-packages (from httpx>=0.19.0->assemblyai) (3.11)\n",
            "Requirement already satisfied: h11>=0.16 in /usr/local/lib/python3.12/dist-packages (from httpcore==1.*->httpx>=0.19.0->assemblyai) (0.16.0)\n",
            "Requirement already satisfied: pillow>=8.3.2 in /usr/local/lib/python3.12/dist-packages (from imageio<3.0,>=2.5->moviepy) (11.3.0)\n",
            "Requirement already satisfied: annotated-types>=0.6.0 in /usr/local/lib/python3.12/dist-packages (from pydantic>=1.10.17->assemblyai) (0.7.0)\n",
            "Requirement already satisfied: typing-inspection>=0.4.0 in /usr/local/lib/python3.12/dist-packages (from pydantic>=1.10.17->assemblyai) (0.4.2)\n",
            "Requirement already satisfied: charset_normalizer<4,>=2 in /usr/local/lib/python3.12/dist-packages (from requests<3.0,>=2.8.1->moviepy) (3.4.4)\n",
            "Requirement already satisfied: urllib3<3,>=1.21.1 in /usr/local/lib/python3.12/dist-packages (from requests<3.0,>=2.8.1->moviepy) (2.5.0)\n",
            "Requirement already satisfied: sniffio>=1.1 in /usr/local/lib/python3.12/dist-packages (from anyio->httpx>=0.19.0->assemblyai) (1.3.1)\n",
            "Downloading assemblyai-0.45.4-py3-none-any.whl (51 kB)\n",
            "\u001b[2K   \u001b[90m━━━━━━━━━━━━━━━━━━━━━━━━━━━━━━━━━━━━━━━━\u001b[0m \u001b[32m51.5/51.5 kB\u001b[0m \u001b[31m4.1 MB/s\u001b[0m eta \u001b[36m0:00:00\u001b[0m\n",
            "\u001b[?25hDownloading elevenlabs-2.20.1-py3-none-any.whl (1.1 MB)\n",
            "\u001b[2K   \u001b[90m━━━━━━━━━━━━━━━━━━━━━━━━━━━━━━━━━━━━━━━━\u001b[0m \u001b[32m1.1/1.1 MB\u001b[0m \u001b[31m29.4 MB/s\u001b[0m eta \u001b[36m0:00:00\u001b[0m\n",
            "\u001b[?25hInstalling collected packages: elevenlabs, assemblyai\n",
            "Successfully installed assemblyai-0.45.4 elevenlabs-2.20.1\n"
          ]
        }
      ],
      "source": [
        "!pip install moviepy assemblyai elevenlabs pydub"
      ]
    },
    {
      "cell_type": "markdown",
      "metadata": {
        "id": "MvwiOwR8HdKV"
      },
      "source": [
        "**import modules/libraries:**"
      ]
    },
    {
      "cell_type": "code",
      "execution_count": 2,
      "metadata": {
        "collapsed": true,
        "id": "UZPdeJPdHipP",
        "colab": {
          "base_uri": "https://localhost:8080/",
          "height": 0
        },
        "outputId": "d6aa041a-6b68-4d37-f25f-807b47e923d8"
      },
      "outputs": [
        {
          "output_type": "stream",
          "name": "stderr",
          "text": [
            "/usr/local/lib/python3.12/dist-packages/moviepy/config_defaults.py:47: SyntaxWarning: invalid escape sequence '\\P'\n",
            "  IMAGEMAGICK_BINARY = r\"C:\\Program Files\\ImageMagick-6.8.8-Q16\\magick.exe\"\n",
            "/usr/local/lib/python3.12/dist-packages/moviepy/video/io/ffmpeg_reader.py:294: SyntaxWarning: invalid escape sequence '\\d'\n",
            "  lines_video = [l for l in lines if ' Video: ' in l and re.search('\\d+x\\d+', l)]\n",
            "/usr/local/lib/python3.12/dist-packages/moviepy/video/io/ffmpeg_reader.py:367: SyntaxWarning: invalid escape sequence '\\d'\n",
            "  rotation_lines = [l for l in lines if 'rotate          :' in l and re.search('\\d+$', l)]\n",
            "/usr/local/lib/python3.12/dist-packages/moviepy/video/io/ffmpeg_reader.py:370: SyntaxWarning: invalid escape sequence '\\d'\n",
            "  match = re.search('\\d+$', rotation_line)\n",
            "WARNING:py.warnings:/usr/local/lib/python3.12/dist-packages/moviepy/video/io/sliders.py:61: SyntaxWarning: \"is\" with 'str' literal. Did you mean \"==\"?\n",
            "  if event.key is 'enter':\n",
            "\n",
            "WARNING:py.warnings:/usr/local/lib/python3.12/dist-packages/pydub/utils.py:300: SyntaxWarning: invalid escape sequence '\\('\n",
            "  m = re.match('([su]([0-9]{1,2})p?) \\(([0-9]{1,2}) bit\\)$', token)\n",
            "\n",
            "WARNING:py.warnings:/usr/local/lib/python3.12/dist-packages/pydub/utils.py:301: SyntaxWarning: invalid escape sequence '\\('\n",
            "  m2 = re.match('([su]([0-9]{1,2})p?)( \\(default\\))?$', token)\n",
            "\n",
            "WARNING:py.warnings:/usr/local/lib/python3.12/dist-packages/pydub/utils.py:310: SyntaxWarning: invalid escape sequence '\\('\n",
            "  elif re.match('(flt)p?( \\(default\\))?$', token):\n",
            "\n",
            "WARNING:py.warnings:/usr/local/lib/python3.12/dist-packages/pydub/utils.py:314: SyntaxWarning: invalid escape sequence '\\('\n",
            "  elif re.match('(dbl)p?( \\(default\\))?$', token):\n",
            "\n"
          ]
        }
      ],
      "source": [
        "import os\n",
        "import io\n",
        "import assemblyai as aai\n",
        "from moviepy.editor import VideoFileClip, AudioFileClip\n",
        "from elevenlabs import ElevenLabs\n",
        "from pydub import AudioSegment"
      ]
    },
    {
      "cell_type": "markdown",
      "metadata": {
        "id": "WZvYdhTvJlnI"
      },
      "source": [
        "**API KEYS:**"
      ]
    },
    {
      "cell_type": "code",
      "execution_count": 3,
      "metadata": {
        "id": "V_BJI6VQIfE1"
      },
      "outputs": [],
      "source": [
        "ASSEMBLYAI_API_KEY = \"your_api_key\"\n",
        "ELEVENLABS_API_KEY = \"your_api_key\""
      ]
    },
    {
      "cell_type": "markdown",
      "metadata": {
        "id": "mS9uLOk3Juw3"
      },
      "source": [
        "**INPUT/OUTPUT VIDEO PATH ASSIGN:**"
      ]
    },
    {
      "cell_type": "code",
      "source": [
        "original_video_path = \"/content/drive/MyDrive/video for dubbing podcast/new input video.mp4\"\n",
        "output_audio_path   = \"/content/drive/MyDrive/video for dubbing podcast/final_dubbed_audio3.wav\"\n",
        "output_video_path   = \"/content/drive/MyDrive/video for dubbing podcast/final_dubbed_video3.mp4\""
      ],
      "metadata": {
        "id": "ZZuMNQ_JW4b9"
      },
      "execution_count": 4,
      "outputs": []
    },
    {
      "cell_type": "markdown",
      "metadata": {
        "id": "6sG-XQzGLXVE"
      },
      "source": [
        "**SELECT VOICE ID:**"
      ]
    },
    {
      "cell_type": "code",
      "execution_count": 5,
      "metadata": {
        "id": "o-tlbCdiK7nG"
      },
      "outputs": [],
      "source": [
        "speaker_voices = {\n",
        "    \"A\": \"pNInz6obpgDQGcFmaJgB\",\n",
        "    \"B\": \"TxGEqnHWrfWFTfGW9XjX\",\n",
        "    \"SPEAKER_0\": \"pNInz6obpgDQGcFmaJgB\",\n",
        "    \"SPEAKER_1\": \"TxGEqnHWrfWFTfGW9XjX\"\n",
        "}"
      ]
    },
    {
      "cell_type": "markdown",
      "metadata": {
        "id": "IEpbzLcBMPIP"
      },
      "source": [
        "**Extract audio from video**"
      ]
    },
    {
      "cell_type": "code",
      "execution_count": 6,
      "metadata": {
        "colab": {
          "base_uri": "https://localhost:8080/",
          "height": 0
        },
        "id": "_n949Y7mMQos",
        "outputId": "6c150bae-c379-4bd7-c873-adfa16432a66"
      },
      "outputs": [
        {
          "output_type": "stream",
          "name": "stdout",
          "text": [
            " Video duration: 62.23s\n"
          ]
        }
      ],
      "source": [
        "video = VideoFileClip(original_video_path)\n",
        "audio_path = \"extracted_audio.wav\"\n",
        "video.audio.write_audiofile(audio_path, verbose=False, logger=None)\n",
        "print(f\" Video duration: {video.duration:.2f}s\")"
      ]
    },
    {
      "cell_type": "markdown",
      "metadata": {
        "id": "EQfUwV1hMn8X"
      },
      "source": [
        "**Transcribe + diarize using AssemblyAI:**"
      ]
    },
    {
      "cell_type": "code",
      "execution_count": 7,
      "metadata": {
        "id": "Qo4Ygr_aMG2E",
        "colab": {
          "base_uri": "https://localhost:8080/",
          "height": 0
        },
        "outputId": "40df1442-0897-4936-d64e-a28a7b0cd9bd"
      },
      "outputs": [
        {
          "output_type": "stream",
          "name": "stdout",
          "text": [
            "Total segment detect: 40\n"
          ]
        }
      ],
      "source": [
        "aai.settings.api_key = ASSEMBLYAI_API_KEY\n",
        "transcriber = aai.Transcriber()\n",
        "config = aai.TranscriptionConfig(speaker_labels=True, speakers_expected=2)\n",
        "transcript = transcriber.transcribe(audio_path, config)\n",
        "\n",
        "segments = transcript.utterances\n",
        "print(f\"Total segment detect: {len(segments)}\")"
      ]
    },
    {
      "cell_type": "markdown",
      "metadata": {
        "id": "Nnbihfe1NOj-"
      },
      "source": [
        "**Prepare ElevenLabs client:**"
      ]
    },
    {
      "cell_type": "code",
      "execution_count": 8,
      "metadata": {
        "id": "cFkfAPW-QGy7"
      },
      "outputs": [],
      "source": [
        "client = ElevenLabs(api_key=ELEVENLABS_API_KEY)"
      ]
    },
    {
      "cell_type": "markdown",
      "metadata": {
        "id": "hl89IuP_RRkx"
      },
      "source": [
        "**summary diarized segments:**"
      ]
    },
    {
      "cell_type": "markdown",
      "metadata": {
        "id": "TSXM6YwSNe6E"
      },
      "source": [
        "**Generate dubbed audio per segment:**"
      ]
    },
    {
      "cell_type": "code",
      "source": [
        "!pip install moviepy elevenlabs pydub"
      ],
      "metadata": {
        "collapsed": true,
        "colab": {
          "base_uri": "https://localhost:8080/"
        },
        "id": "jDaNUx3mBPWU",
        "outputId": "3e0f0433-6116-4b1e-c3e1-de7ba74ad611"
      },
      "execution_count": null,
      "outputs": [
        {
          "output_type": "stream",
          "name": "stdout",
          "text": [
            "Requirement already satisfied: moviepy in /usr/local/lib/python3.12/dist-packages (1.0.3)\n",
            "Requirement already satisfied: elevenlabs in /usr/local/lib/python3.12/dist-packages (2.20.1)\n",
            "Requirement already satisfied: pydub in /usr/local/lib/python3.12/dist-packages (0.25.1)\n",
            "Requirement already satisfied: decorator<5.0,>=4.0.2 in /usr/local/lib/python3.12/dist-packages (from moviepy) (4.4.2)\n",
            "Requirement already satisfied: tqdm<5.0,>=4.11.2 in /usr/local/lib/python3.12/dist-packages (from moviepy) (4.67.1)\n",
            "Requirement already satisfied: requests<3.0,>=2.8.1 in /usr/local/lib/python3.12/dist-packages (from moviepy) (2.32.4)\n",
            "Requirement already satisfied: proglog<=1.0.0 in /usr/local/lib/python3.12/dist-packages (from moviepy) (0.1.12)\n",
            "Requirement already satisfied: numpy>=1.17.3 in /usr/local/lib/python3.12/dist-packages (from moviepy) (2.0.2)\n",
            "Requirement already satisfied: imageio<3.0,>=2.5 in /usr/local/lib/python3.12/dist-packages (from moviepy) (2.37.0)\n",
            "Requirement already satisfied: imageio-ffmpeg>=0.2.0 in /usr/local/lib/python3.12/dist-packages (from moviepy) (0.6.0)\n",
            "Requirement already satisfied: httpx>=0.21.2 in /usr/local/lib/python3.12/dist-packages (from elevenlabs) (0.28.1)\n",
            "Requirement already satisfied: pydantic>=1.9.2 in /usr/local/lib/python3.12/dist-packages (from elevenlabs) (2.11.10)\n",
            "Requirement already satisfied: pydantic-core>=2.18.2 in /usr/local/lib/python3.12/dist-packages (from elevenlabs) (2.33.2)\n",
            "Requirement already satisfied: typing_extensions>=4.0.0 in /usr/local/lib/python3.12/dist-packages (from elevenlabs) (4.15.0)\n",
            "Requirement already satisfied: websockets>=11.0 in /usr/local/lib/python3.12/dist-packages (from elevenlabs) (15.0.1)\n",
            "Requirement already satisfied: anyio in /usr/local/lib/python3.12/dist-packages (from httpx>=0.21.2->elevenlabs) (4.11.0)\n",
            "Requirement already satisfied: certifi in /usr/local/lib/python3.12/dist-packages (from httpx>=0.21.2->elevenlabs) (2025.10.5)\n",
            "Requirement already satisfied: httpcore==1.* in /usr/local/lib/python3.12/dist-packages (from httpx>=0.21.2->elevenlabs) (1.0.9)\n",
            "Requirement already satisfied: idna in /usr/local/lib/python3.12/dist-packages (from httpx>=0.21.2->elevenlabs) (3.11)\n",
            "Requirement already satisfied: h11>=0.16 in /usr/local/lib/python3.12/dist-packages (from httpcore==1.*->httpx>=0.21.2->elevenlabs) (0.16.0)\n",
            "Requirement already satisfied: pillow>=8.3.2 in /usr/local/lib/python3.12/dist-packages (from imageio<3.0,>=2.5->moviepy) (11.3.0)\n",
            "Requirement already satisfied: annotated-types>=0.6.0 in /usr/local/lib/python3.12/dist-packages (from pydantic>=1.9.2->elevenlabs) (0.7.0)\n",
            "Requirement already satisfied: typing-inspection>=0.4.0 in /usr/local/lib/python3.12/dist-packages (from pydantic>=1.9.2->elevenlabs) (0.4.2)\n",
            "Requirement already satisfied: charset_normalizer<4,>=2 in /usr/local/lib/python3.12/dist-packages (from requests<3.0,>=2.8.1->moviepy) (3.4.4)\n",
            "Requirement already satisfied: urllib3<3,>=1.21.1 in /usr/local/lib/python3.12/dist-packages (from requests<3.0,>=2.8.1->moviepy) (2.5.0)\n",
            "Requirement already satisfied: sniffio>=1.1 in /usr/local/lib/python3.12/dist-packages (from anyio->httpx>=0.21.2->elevenlabs) (1.3.1)\n"
          ]
        }
      ]
    },
    {
      "cell_type": "code",
      "source": [
        "import time"
      ],
      "metadata": {
        "id": "BgYMqc2fYVge"
      },
      "execution_count": null,
      "outputs": []
    },
    {
      "cell_type": "code",
      "source": [
        "total_duration_ms = int(video.duration * 1000)\n",
        "final_dub_audio = AudioSegment.silent(duration=total_duration_ms)\n",
        "\n",
        "for seg in segments:\n",
        "    speaker = seg.speaker\n",
        "    text = seg.text.strip()\n",
        "    start_ms = int(seg.start)\n",
        "    end_ms   = int(seg.end)\n",
        "    duration_ms = max(200, end_ms - start_ms)\n",
        "    voice_id = speaker_voices.get(speaker, \"pNInz6obpgDQGcFmaJgB\")\n",
        "\n",
        "    print(f\"\\n Generating {speaker} ({start_ms}-{end_ms} ms | {duration_ms/1000:.2f}s): '{text}'\")\n",
        "\n",
        "    seg_audio = None\n",
        "    attempt = 0\n",
        "\n",
        "    while attempt < 2 and seg_audio is None:\n",
        "        try:\n",
        "            audio_stream = client.text_to_speech.convert(\n",
        "                voice_id=voice_id,\n",
        "                model_id=\"eleven_multilingual_v2\",\n",
        "                text=text\n",
        "            )\n",
        "\n",
        "            audio_bytes = b\"\".join(audio_stream)\n",
        "            if not audio_bytes:\n",
        "                raise ValueError(\"Empty stream received from ElevenLabs\")\n",
        "\n",
        "            seg_audio = AudioSegment.from_file(io.BytesIO(audio_bytes), format=\"mp3\")\n",
        "\n",
        "        except Exception as e:\n",
        "            attempt += 1\n",
        "            print(f\" Error (attempt {attempt}) for {speaker}: {e}\")\n",
        "            time.sleep(2)\n",
        "\n",
        "    if seg_audio is None:\n",
        "        print(f\" ElevenLabs failed for '{text}', inserting {duration_ms}ms silence.\")\n",
        "        seg_audio = AudioSegment.silent(duration=duration_ms)\n",
        "\n",
        "    final_dub_audio = final_dub_audio.overlay(seg_audio, position=start_ms)"
      ],
      "metadata": {
        "colab": {
          "base_uri": "https://localhost:8080/",
          "height": 0
        },
        "id": "DTd8_wgmYGWh",
        "outputId": "e62c3e05-558f-4f78-c2e5-ffdf973bcd78",
        "collapsed": true
      },
      "execution_count": 9,
      "outputs": [
        {
          "output_type": "stream",
          "name": "stdout",
          "text": [
            "\n",
            " Generating A (160-880 ms | 0.72s): 'What is your name?'\n",
            "\n",
            " Generating B (1120-2160 ms | 1.04s): 'My name is Emma.'\n",
            "\n",
            " Generating A (2400-3280 ms | 0.88s): 'How old are you?'\n",
            "\n",
            " Generating B (3520-4880 ms | 1.36s): 'I'm 25 years old.'\n",
            "\n",
            " Generating A (5200-6160 ms | 0.96s): 'Where are you from?'\n",
            "\n",
            " Generating B (6400-7600 ms | 1.20s): 'I am from Germany.'\n",
            "\n",
            " Generating A (7760-8720 ms | 0.96s): 'What do you do?'\n",
            "\n",
            " Generating B (9040-9920 ms | 0.88s): 'I'm a student.'\n",
            "\n",
            " Generating A (10160-11120 ms | 0.96s): 'Are you married?'\n",
            "\n",
            " Generating B (11360-12400 ms | 1.04s): 'No, I'm single.'\n",
            "\n",
            " Generating A (12640-14160 ms | 1.52s): 'Do you have any siblings?'\n",
            "\n",
            " Generating B (14560-16000 ms | 1.44s): 'Yes, I have one brother.'\n",
            "\n",
            " Generating A (16400-17760 ms | 1.36s): 'What is your favorite color?'\n",
            "\n",
            " Generating B (18000-19520 ms | 1.52s): 'My favorite color is blue.'\n",
            "\n",
            " Generating A (19840-21120 ms | 1.28s): 'What time do you wake up?'\n",
            "\n",
            " Generating B (21200-22800 ms | 1.60s): 'I wake up at 7 o'. Clock.'\n",
            "\n",
            " Generating A (23360-24560 ms | 1.20s): 'Can you speak English?'\n",
            "\n",
            " Generating B (24960-26780 ms | 1.82s): 'Yes, I can speak English.'\n",
            "\n",
            " Generating A (26940-28220 ms | 1.28s): 'What do you like to eat?'\n",
            "\n",
            " Generating B (28220-29660 ms | 1.44s): 'I like to eat pizza.'\n",
            "\n",
            " Generating A (29900-31020 ms | 1.12s): 'What is your hobby?'\n",
            "\n",
            " Generating B (31260-32540 ms | 1.28s): 'My hobby is reading.'\n",
            "\n",
            " Generating A (32700-33660 ms | 0.96s): 'Do you have a pet?'\n",
            "\n",
            " Generating B (34060-35420 ms | 1.36s): 'Yes, I have a cat.'\n",
            "\n",
            " Generating A (35900-37340 ms | 1.44s): 'What is your favorite movie?'\n",
            "\n",
            " Generating B (37660-39420 ms | 1.76s): 'My favorite movie is Titanic.'\n",
            "\n",
            " Generating A (39660-41100 ms | 1.44s): 'What's your favorite subject?'\n",
            "\n",
            " Generating B (41100-42860 ms | 1.76s): 'My favorite subject is English.'\n",
            "\n",
            " Generating A (43100-43980 ms | 0.88s): 'Do you go to school?'\n",
            "\n",
            " Generating B (44700-46860 ms | 2.16s): 'Yes, I go to school every day.'\n",
            "\n",
            " Generating A (47100-48220 ms | 1.12s): 'How do you go to school?'\n",
            "\n",
            " Generating B (48460-49340 ms | 0.88s): 'I go by bus.'\n",
            "\n",
            " Generating A (49820-50860 ms | 1.04s): 'What day is it today?'\n",
            "\n",
            " Generating B (51510-52230 ms | 0.72s): 'Today is Tuesday.'\n",
            "\n",
            " Generating A (52630-53990 ms | 1.36s): 'What is your favorite season?'\n",
            "\n",
            " Generating B (54310-55830 ms | 1.52s): 'My favorite season is spring.'\n",
            "\n",
            " Generating A (56150-57110 ms | 0.96s): 'Do you like music?'\n",
            "\n",
            " Generating B (57430-58550 ms | 1.12s): 'Yes, I love music.'\n",
            "\n",
            " Generating A (58710-59750 ms | 1.04s): 'Are you happy today?'\n",
            "\n",
            " Generating B (60150-61750 ms | 1.60s): 'Yes, I am very happy.'\n"
          ]
        }
      ]
    },
    {
      "cell_type": "code",
      "source": [
        "dubbed_ms = len(final_dub_audio)\n",
        "video_ms = int(video.duration * 1000)\n",
        "\n",
        "if dubbed_ms < video_ms:\n",
        "    final_dub_audio += AudioSegment.silent(duration=video_ms - dubbed_ms)\n",
        "elif dubbed_ms > video_ms:\n",
        "    final_dub_audio = final_dub_audio[:video_ms]"
      ],
      "metadata": {
        "id": "XoJ7XsA9aGrg"
      },
      "execution_count": 10,
      "outputs": []
    },
    {
      "cell_type": "code",
      "source": [
        "final_dub_audio.export(output_audio_path, format=\"wav\")\n",
        "print(f\"\\n Dubbed audio saved at: {output_audio_path}\")"
      ],
      "metadata": {
        "colab": {
          "base_uri": "https://localhost:8080/",
          "height": 0
        },
        "id": "tV00yNJnaSdO",
        "outputId": "5e7e1b5d-68bb-4cbb-8704-fa3f8d902193"
      },
      "execution_count": 11,
      "outputs": [
        {
          "output_type": "stream",
          "name": "stdout",
          "text": [
            "\n",
            " Dubbed audio saved at: /content/drive/MyDrive/video for dubbing podcast/final_dubbed_audio3.wav\n"
          ]
        }
      ]
    },
    {
      "cell_type": "markdown",
      "source": [
        "**Merge dubbed audio back into video**"
      ],
      "metadata": {
        "id": "sXOUOPAia1bG"
      }
    },
    {
      "cell_type": "code",
      "source": [
        "dub_audio = AudioFileClip(output_audio_path)\n",
        "final_video = video.set_audio(dub_audio)\n",
        "final_video.write_videofile(output_video_path, codec=\"libx264\", audio_codec=\"aac\")\n",
        "\n",
        "print(f\"\\n Final dubbed video saved at: {output_video_path}\")"
      ],
      "metadata": {
        "colab": {
          "base_uri": "https://localhost:8080/",
          "height": 0
        },
        "id": "gAfd68GZay33",
        "outputId": "bf58e974-89d1-4d86-9cb2-9e2c5b3c09ac",
        "collapsed": true
      },
      "execution_count": 12,
      "outputs": [
        {
          "output_type": "stream",
          "name": "stdout",
          "text": [
            "Moviepy - Building video /content/drive/MyDrive/video for dubbing podcast/final_dubbed_video3.mp4.\n",
            "MoviePy - Writing audio in final_dubbed_video3TEMP_MPY_wvf_snd.mp4\n"
          ]
        },
        {
          "output_type": "stream",
          "name": "stderr",
          "text": []
        },
        {
          "output_type": "stream",
          "name": "stdout",
          "text": [
            "MoviePy - Done.\n",
            "Moviepy - Writing video /content/drive/MyDrive/video for dubbing podcast/final_dubbed_video3.mp4\n",
            "\n"
          ]
        },
        {
          "output_type": "stream",
          "name": "stderr",
          "text": [
            "t: 100%|█████████▉| 1863/1867 [00:25<00:00, 54.23it/s, now=None]WARNING:py.warnings:/usr/local/lib/python3.12/dist-packages/moviepy/video/io/ffmpeg_reader.py:123: UserWarning: Warning: in file /content/drive/MyDrive/video for dubbing podcast/new input video.mp4, 691200 bytes wanted but 0 bytes read,at frame 1864/1867, at time 62.13/62.23 sec. Using the last valid frame instead.\n",
            "  warnings.warn(\"Warning: in file %s, \"%(self.filename)+\n",
            "\n",
            "WARNING:py.warnings:/usr/local/lib/python3.12/dist-packages/moviepy/video/io/ffmpeg_reader.py:123: UserWarning: Warning: in file /content/drive/MyDrive/video for dubbing podcast/new input video.mp4, 691200 bytes wanted but 0 bytes read,at frame 1865/1867, at time 62.17/62.23 sec. Using the last valid frame instead.\n",
            "  warnings.warn(\"Warning: in file %s, \"%(self.filename)+\n",
            "\n",
            "WARNING:py.warnings:/usr/local/lib/python3.12/dist-packages/moviepy/video/io/ffmpeg_reader.py:123: UserWarning: Warning: in file /content/drive/MyDrive/video for dubbing podcast/new input video.mp4, 691200 bytes wanted but 0 bytes read,at frame 1866/1867, at time 62.20/62.23 sec. Using the last valid frame instead.\n",
            "  warnings.warn(\"Warning: in file %s, \"%(self.filename)+\n",
            "\n"
          ]
        },
        {
          "output_type": "stream",
          "name": "stdout",
          "text": [
            "Moviepy - Done !\n",
            "Moviepy - video ready /content/drive/MyDrive/video for dubbing podcast/final_dubbed_video3.mp4\n",
            "\n",
            " Final dubbed video saved at: /content/drive/MyDrive/video for dubbing podcast/final_dubbed_video3.mp4\n"
          ]
        }
      ]
    }
  ],
  "metadata": {
    "colab": {
      "provenance": [],
      "mount_file_id": "1qJ_c6j8H9RAgLhuHMSzQRkDcU5EbKVrk",
      "authorship_tag": "ABX9TyM5qP1rxC7j7f3BuOzAyQcs"
    },
    "kernelspec": {
      "display_name": "Python 3",
      "name": "python3"
    },
    "language_info": {
      "name": "python"
    }
  },
  "nbformat": 4,
  "nbformat_minor": 0
}