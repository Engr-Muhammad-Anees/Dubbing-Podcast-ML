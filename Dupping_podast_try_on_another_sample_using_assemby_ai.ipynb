{
  "nbformat": 4,
  "nbformat_minor": 0,
  "metadata": {
    "colab": {
      "provenance": [],
      "mount_file_id": "1COmc3p7nKbzE8OpXzbATRVWA60Q_jgBk",
      "authorship_tag": "ABX9TyOaYYWeKxDI0geLaRXFlbu7",
      "include_colab_link": true
    },
    "kernelspec": {
      "name": "python3",
      "display_name": "Python 3"
    },
    "language_info": {
      "name": "python"
    }
  },
  "cells": [
    {
      "cell_type": "markdown",
      "metadata": {
        "id": "view-in-github",
        "colab_type": "text"
      },
      "source": [
        "<a href=\"https://colab.research.google.com/github/Engr-Muhammad-Anees/Dubbing-Podcast-ML/blob/main/Dupping_podast_try_on_another_sample_using_assemby_ai.ipynb\" target=\"_parent\"><img src=\"https://colab.research.google.com/assets/colab-badge.svg\" alt=\"Open In Colab\"/></a>"
      ]
    },
    {
      "cell_type": "markdown",
      "source": [
        "**package install:**"
      ],
      "metadata": {
        "id": "jxBJ2EcPUCsd"
      }
    },
    {
      "cell_type": "code",
      "execution_count": 1,
      "metadata": {
        "collapsed": true,
        "id": "Yzdrp_dOp9JV"
      },
      "outputs": [],
      "source": [
        "!pip install --quiet assemblyai elevenlabs pydub moviepy"
      ]
    },
    {
      "cell_type": "markdown",
      "source": [
        "**import libraries:**"
      ],
      "metadata": {
        "id": "y3cOz_6BUJRs"
      }
    },
    {
      "cell_type": "code",
      "source": [
        "from elevenlabs import ElevenLabs, VoiceSettings\n",
        "from dotenv import load_dotenv\n",
        "import os\n",
        "import assemblyai as aai\n",
        "from pydub import AudioSegment\n",
        "import io\n",
        "import time\n",
        "from moviepy.editor import VideoFileClip, AudioFileClip"
      ],
      "metadata": {
        "id": "B6QwBfDFron2"
      },
      "execution_count": 2,
      "outputs": []
    },
    {
      "cell_type": "markdown",
      "source": [
        "**API KEYS:**"
      ],
      "metadata": {
        "id": "EG6SyY0wUOPw"
      }
    },
    {
      "cell_type": "code",
      "source": [
        "os.environ[\"ASSEMBLYAI_API_KEY\"] = \"your api_key\"\n",
        "os.environ[\"ELEVENLABS_API_KEY\"] = \"your api_key\""
      ],
      "metadata": {
        "id": "_-G0l2qn3f8Q"
      },
      "execution_count": 3,
      "outputs": []
    },
    {
      "cell_type": "code",
      "source": [
        "ASSEMBLY_KEY = os.getenv(\"ASSEMBLYAI_API_KEY\")\n",
        "ELEVEN_KEY = os.getenv(\"ELEVENLABS_API_KEY\")\n",
        "print(\"ASSEMBLY_KEY:\", ASSEMBLY_KEY)\n",
        "print(\"ELEVEN_KEY:\", ELEVEN_KEY)"
      ],
      "metadata": {
        "colab": {
          "base_uri": "https://localhost:8080/"
        },
        "id": "S_LOWILa31_g",
        "outputId": "158ed656-e83b-43c4-a86d-ea80048d674f"
      },
      "execution_count": 4,
      "outputs": [
        {
          "output_type": "stream",
          "name": "stdout",
          "text": [

          ]
        }
      ]
    },
    {
      "cell_type": "markdown",
      "source": [
        "**INPUT AND OUTPUT ADDRESS:**"
      ],
      "metadata": {
        "id": "I7YZV9d2UUGJ"
      }
    },
    {
      "cell_type": "code",
      "source": [
        "input_video = \"/content/drive/MyDrive/video for dubbing podcast/A Daughter’s Serious Question.mp4\"\n",
        "dubbed_audio = \"/content/drive/MyDrive/video for dubbing podcast/dubbing_audio12345.mp3\"\n",
        "dubbed_video = \"/content/drive/MyDrive/video for dubbing podcast/dubbing_video123455.mp4\"\n",
        "input_audio= \"input_audio.wav\""
      ],
      "metadata": {
        "id": "LlRXgwsXxF6U"
      },
      "execution_count": 37,
      "outputs": []
    },
    {
      "cell_type": "markdown",
      "source": [
        "**ASTRACT AUDIO FROM INPUT VIDEO:**"
      ],
      "metadata": {
        "id": "ylALpeS6UbVa"
      }
    },
    {
      "cell_type": "code",
      "source": [
        "!ffmpeg -y -i \"{input_video}\" -ac 1 -ar 16000 -vn \"{input_audio}\" >/dev/null 2>&1\n",
        "print(\" Audio extracted:\", input_audio)"
      ],
      "metadata": {
        "colab": {
          "base_uri": "https://localhost:8080/"
        },
        "id": "rGkbrHXex5ze",
        "outputId": "4dd17658-53e0-4696-9473-a39f7cdb714a"
      },
      "execution_count": 6,
      "outputs": [
        {
          "output_type": "stream",
          "name": "stdout",
          "text": [
            " Audio extracted: input_audio.wav\n"
          ]
        }
      ]
    },
    {
      "cell_type": "code",
      "source": [
        "aai.settings.api_key = ASSEMBLY_KEY\n",
        "audio_file = input_audio"
      ],
      "metadata": {
        "id": "-IBPICyDsgj_"
      },
      "execution_count": 7,
      "outputs": []
    },
    {
      "cell_type": "markdown",
      "source": [
        "**Enable speaker diarization in the transcription config:**"
      ],
      "metadata": {
        "id": "dewdDqTlsyob"
      }
    },
    {
      "cell_type": "code",
      "source": [
        "config = aai.TranscriptionConfig(\n",
        "    speaker_labels=True,\n",
        "    punctuate=True,\n",
        "    format_text=True\n",
        ")\n",
        "transcriber = aai.Transcriber(config=config)\n",
        "\n",
        "print(\"Uploading and transcribing with diarization...\")\n",
        "transcript = transcriber.transcribe(audio_file)"
      ],
      "metadata": {
        "colab": {
          "base_uri": "https://localhost:8080/"
        },
        "outputId": "30986fbf-5be8-4d24-989a-bdb57565a85f",
        "id": "rwXYWiymtYIC"
      },
      "execution_count": 8,
      "outputs": [
        {
          "output_type": "stream",
          "name": "stdout",
          "text": [
            "Uploading and transcribing with diarization...\n"
          ]
        }
      ]
    },
    {
      "cell_type": "markdown",
      "source": [
        "**Extract utterances with speaker labels:**"
      ],
      "metadata": {
        "id": "qzvzcdADtq7c"
      }
    },
    {
      "cell_type": "code",
      "source": [
        "utterances = transcript.utterances\n",
        "segments = []\n",
        "\n",
        "for utt in utterances:\n",
        "    segments.append({\n",
        "        \"speaker\": utt.speaker,\n",
        "        \"text\": utt.text.strip(),\n",
        "        \"start\": utt.start,\n",
        "        \"end\": utt.end\n",
        "    })\n",
        "    print(f\"{utt.start}-{utt.end} ms | Speaker {utt.speaker}: {utt.text}\")"
      ],
      "metadata": {
        "id": "FYmQ7I89oA1Z"
      },
      "execution_count": null,
      "outputs": []
    },
    {
      "cell_type": "markdown",
      "source": [
        "**Generate Dubbed Speech:**"
      ],
      "metadata": {
        "id": "C_GpZIwwuIgs"
      }
    },
    {
      "cell_type": "code",
      "source": [
        "speaker_voices = { \"A\": \"pNInz6obpgDQGcFmaJgB\",\n",
        "                  \"B\": \"TxGEqnHWrfWFTfGW9XjX\",\n",
        "                   \"SPEAKER_0\": \"pNInz6obpgDQGcFmaJgB\",\n",
        "                   \"SPEAKER_1\": \"TxGEqnHWrfWFTfGW9XjX\"\n",
        "                    }\n",
        "client = ElevenLabs(api_key=ELEVEN_KEY)"
      ],
      "metadata": {
        "id": "GJvnDG97pK4E"
      },
      "execution_count": 20,
      "outputs": []
    },
    {
      "cell_type": "code",
      "source": [
        "segments"
      ],
      "metadata": {
        "collapsed": true,
        "id": "1nAwcJ2cekf3"
      },
      "execution_count": null,
      "outputs": []
    },
    {
      "cell_type": "markdown",
      "source": [
        "**Function to create TTS for an utterance**"
      ],
      "metadata": {
        "id": "I0Uzl3wwlzOa"
      }
    },
    {
      "cell_type": "code",
      "source": [
        "valid_segments = [s for s in segments if \"end_ms\" in s]\n",
        "total_duration = int(max(s[\"end_ms\"] for s in valid_segments))\n",
        "final_audio = AudioSegment.silent(duration=total_duration)"
      ],
      "metadata": {
        "id": "9mGq7JaDfNdn"
      },
      "execution_count": 32,
      "outputs": []
    },
    {
      "cell_type": "code",
      "source": [
        "for seg in segments:\n",
        "    speaker = seg[\"speaker\"]\n",
        "    text = seg[\"text\"].strip()\n",
        "    start_ms = int(seg[\"start_ms\"])\n",
        "    end_ms = int(seg[\"end_ms\"])\n",
        "    duration_ms = max(300, end_ms - start_ms)\n",
        "    voice_id = speaker_voices.get(speaker, \"pNInz6obpgDQGcFmaJgB\")\n",
        "\n",
        "    print(f\"🎙 Generating AI voice for Speaker {speaker} \"\n",
        "          f\"({start_ms/1000:.2f}-{end_ms/1000:.2f}s): {text}\")\n",
        "\n",
        "    try:\n",
        "        audio_stream = client.text_to_speech.convert(\n",
        "            voice_id=voice_id,\n",
        "            model_id=\"eleven_multilingual_v2\",\n",
        "            text=text\n",
        "        )\n",
        "        audio_bytes = b\"\".join(audio_stream)\n",
        "        seg_audio = AudioSegment.from_file(io.BytesIO(audio_bytes), format=\"mp3\")\n",
        "\n",
        "        ai_dur = len(seg_audio)\n",
        "        if ai_dur < duration_ms:\n",
        "            seg_audio += AudioSegment.silent(duration=duration_ms - ai_dur)\n",
        "        elif ai_dur > duration_ms:\n",
        "            seg_audio = seg_audio[:duration_ms]\n",
        "\n",
        "        final_audio = final_audio.overlay(seg_audio, position=start_ms)\n",
        "\n",
        "    except Exception as e:\n",
        "        print(f\"not generating voice for segment: {e}\")\n",
        "        final_audio = final_audio.overlay(AudioSegment.silent(duration=duration_ms), position=start_ms)\n"
      ],
      "metadata": {
        "id": "k_f_3DN3fnVP"
      },
      "execution_count": null,
      "outputs": []
    },
    {
      "cell_type": "markdown",
      "source": [
        "**Export dubbed audio:**"
      ],
      "metadata": {
        "id": "89KFN1vPmxDa"
      }
    },
    {
      "cell_type": "code",
      "source": [
        "output_audio_path = \"dubbed_output_clean.wav\"\n",
        "final_audio.export(dubbed_audio, format=\"wav\")\n",
        "print(f\"\\n Dubbed audio (AI voices only) saved at: {dubbed_audio}\")"
      ],
      "metadata": {
        "id": "sfSnTPxemusS"
      },
      "execution_count": null,
      "outputs": []
    },
    {
      "cell_type": "markdown",
      "source": [
        "**Merge Dubbed Audio into Original Video:**"
      ],
      "metadata": {
        "id": "2WgS7UvxkyQT"
      }
    },
    {
      "cell_type": "code",
      "source": [
        "video = VideoFileClip(input_video)\n",
        "dubbed_audio = AudioFileClip(\"/content/drive/MyDrive/video for dubbing podcast/dubbing_audio12345.mp3\")\n",
        "final_video = video.set_audio(dubbed_audio)\n",
        "final_video.write_videofile(dubbed_video, codec=\"libx264\", audio_codec=\"aac\")"
      ],
      "metadata": {
        "id": "VmOne0J5tudd"
      },
      "execution_count": null,
      "outputs": []
    }
  ]
}
